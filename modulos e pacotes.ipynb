{
  "cells": [
    {
      "cell_type": "code",
      "source": [
        "#modulos e pacote\n",
        "\n",
        "import  statistics"
      ],
      "metadata": {
        "id": "Vb0kUNbd9n4-"
      },
      "execution_count": 1,
      "outputs": []
    },
    {
      "cell_type": "code",
      "source": [
        "#lista\n",
        "\n",
        "d = [ 0,1,2,3,4,5,6,7,8,10,12,14,15,20]"
      ],
      "metadata": {
        "id": "0LBfoukU97tz"
      },
      "execution_count": 2,
      "outputs": []
    },
    {
      "cell_type": "code",
      "source": [
        "#calcular a media\n",
        "\n",
        "A = statistics.mean(d)"
      ],
      "metadata": {
        "id": "6YpBYvae-Ix0"
      },
      "execution_count": 5,
      "outputs": []
    },
    {
      "cell_type": "code",
      "source": [
        "#calcular a mediana\n",
        "\n",
        "B = statistics.median(d)"
      ],
      "metadata": {
        "id": "G_BWFFcL-ev5"
      },
      "execution_count": 6,
      "outputs": []
    },
    {
      "cell_type": "code",
      "source": [
        "#resultado media e mediana\n",
        "\n",
        "print(A)\n",
        "print(B)"
      ],
      "metadata": {
        "id": "mInwLG3V-mwP",
        "outputId": "6fb5135b-7661-4d58-fc89-31e77584f764",
        "colab": {
          "base_uri": "https://localhost:8080/"
        }
      },
      "execution_count": 7,
      "outputs": [
        {
          "output_type": "stream",
          "name": "stdout",
          "text": [
            "7.642857142857143\n",
            "6.5\n"
          ]
        }
      ]
    },
    {
      "cell_type": "code",
      "source": [
        "#apelido em statistics\n",
        "\n",
        "import statistics as tics\n",
        "d =[0,1,2,3,4,5,6,7,9,10,12,14,15,40]\n",
        "A = tics.mean(d)\n",
        "B = tics.median(d)\n",
        "print(A)\n",
        "print(B)\n"
      ],
      "metadata": {
        "id": "iLEkEHHM-384",
        "outputId": "334dae3c-c906-45a4-a0b0-af219d861976",
        "colab": {
          "base_uri": "https://localhost:8080/"
        }
      },
      "execution_count": 8,
      "outputs": [
        {
          "output_type": "stream",
          "name": "stdout",
          "text": [
            "9.142857142857142\n",
            "6.5\n"
          ]
        }
      ]
    },
    {
      "cell_type": "code",
      "source": [
        "#funcões de statistics\n",
        "\n",
        "from statistics import mean ,median\n",
        "d =[0,1,2,3,4,5,6,7,9,12.1,16,19,24,46]\n",
        "A = tics.mean(d)\n",
        "B = tics.median(d)\n",
        "print(A)\n",
        "print(B)"
      ],
      "metadata": {
        "id": "k2Bv6WNY_bgt",
        "outputId": "b47a0737-b230-4a72-edc9-e8afc38f66cb",
        "colab": {
          "base_uri": "https://localhost:8080/"
        }
      },
      "execution_count": 9,
      "outputs": [
        {
          "output_type": "stream",
          "name": "stdout",
          "text": [
            "11.007142857142856\n",
            "6.5\n"
          ]
        }
      ]
    },
    {
      "cell_type": "code",
      "source": [
        "#import * (todas) funçoes de statistics\n",
        "\n",
        "from statistics import *\n",
        "d =[0,1,2,3,4,5,6,7,9,12.1,14.3,15,35,55]\n",
        "A = tics.mean(d)\n",
        "B = tics.median(d)\n",
        "print(A)\n",
        "print(B)"
      ],
      "metadata": {
        "id": "jEsKHSI9AHSi",
        "outputId": "c9e4a903-0c0e-4ad1-96ea-a489966db9db",
        "colab": {
          "base_uri": "https://localhost:8080/"
        }
      },
      "execution_count": 10,
      "outputs": [
        {
          "output_type": "stream",
          "name": "stdout",
          "text": [
            "12.028571428571428\n",
            "6.5\n"
          ]
        }
      ]
    }
  ],
  "metadata": {
    "colab": {
      "name": "Conheça o Colab",
      "provenance": []
    },
    "kernelspec": {
      "display_name": "Python 3",
      "name": "python3"
    }
  },
  "nbformat": 4,
  "nbformat_minor": 0
}